{
 "cells": [
  {
   "cell_type": "code",
   "execution_count": 225,
   "metadata": {},
   "outputs": [],
   "source": [
    "import numpy as np\n",
    "import matplotlib.pyplot as plt\n",
    "from IPython.display import display, Math\n",
    "import matplotlib.gridspec as gridspec\n",
    "import time\n",
    "import pandas\n",
    "import scipy.stats as st\n",
    "from astropy.cosmology import FlatLambdaCDM\n",
    "from scipy.optimize import minimize"
   ]
  },
  {
   "cell_type": "code",
   "execution_count": 226,
   "metadata": {},
   "outputs": [],
   "source": [
    "def model(x,olambda,omega_m ):\n",
    "    print(olambda,omega_m)\n",
    "    cosmo =FlatLambdaCDM(H0=67.36, Om0=1. - olambda-omega_m )\n",
    "    x = x[0]\n",
    "    DL = cosmo.luminosity_distance(x)\n",
    "    distanceModulus = 5 * np.log10(DL.value)+25\n",
    "    return distanceModulus"
   ]
  },
  {
   "cell_type": "code",
   "execution_count": 227,
   "metadata": {},
   "outputs": [],
   "source": [
    "file = pandas.read_csv(\"supernovaData.csv\")\n",
    "sigma = np.mean(file['sigma'])\n",
    "len(file['sigma'])\n",
    "data = [file['redshift'],file['modDist']]"
   ]
  },
  {
   "cell_type": "code",
   "execution_count": 228,
   "metadata": {},
   "outputs": [],
   "source": [
    "L = 1. #Range of x-data\n",
    "M = 100 # Number of data points\n",
    "x = file['redshift']"
   ]
  },
  {
   "cell_type": "code",
   "execution_count": 229,
   "metadata": {},
   "outputs": [
    {
     "data": {
      "text/plain": [
       "[<matplotlib.lines.Line2D at 0x1f8e9fb6a30>]"
      ]
     },
     "execution_count": 229,
     "metadata": {},
     "output_type": "execute_result"
    },
    {
     "data": {
      "image/png": "[encoded data removed]",
      "text/plain": [
       "<Figure size 432x288 with 1 Axes>"
      ]
     },
     "metadata": {
      "needs_background": "light"
     },
     "output_type": "display_data"
    }
   ],
   "source": [
    "plt.plot(file['redshift'],file['modDist'],'.')"
   ]
  },
  {
   "cell_type": "code",
   "execution_count": 259,
   "metadata": {},
   "outputs": [],
   "source": [
    "def logprior(theta,cmin,cmax,mmin,mmax,):\n",
    "    ''' The natural logarithm of the prior probability. '''\n",
    "    lp = 0.\n",
    "    # unpack the model parameters from the tuple\n",
    "    olambda, om = theta\n",
    "\n",
    "    # uniform prior on c\n",
    "    \n",
    "\n",
    "    cmin = 0. # lower range of prior\n",
    "    cmax = 1-olambda-om# upper range of prior\n",
    "    # set prior to 1 (log prior to 0) if in the range and zero (-inf) outside the range\n",
    "    lp = 0. if cmin < om < cmax else -np.inf\n",
    "    \n",
    "     # uniform prior on m\n",
    "    mmin = 0. # lower range of prior\n",
    "    mmax = 1-olambda-om  # upper range of prior\n",
    "  \n",
    "    # set prior to 1 (log prior to 0) if in the range and zero (-inf) outside the range\n",
    "    lp += 0. if mmin < olambda < mmax else -np.inf\n",
    "    \n",
    "    return lp"
   ]
  },
  {
   "cell_type": "code",
   "execution_count": 250,
   "metadata": {},
   "outputs": [],
   "source": [
    "def loglike(theta, data, sigma, x):\n",
    "    '''The natural logarithm of the likelihood.'''\n",
    "    # unpack the model parameters\n",
    "    \n",
    "    olambda, om = theta\n",
    "    cmin = 0. # lower range of prior\n",
    "    cmax = 1-olambda-om# upper range of prior\n",
    "    # set prior to 1 (log prior to 0) if in the range and zero (-inf) outside the range\n",
    "    lp = 0. if cmin < om < cmax else -np.inf\n",
    "    \n",
    "     # uniform prior on m\n",
    "    mmin = 0. # lower range of prior\n",
    "    mmax = 1-olambda-om  # upper range of prior\n",
    "  \n",
    "    # set prior to 1 (log prior to 0) if in the range and zero (-inf) outside the range\n",
    "    lin_md = model(x,olambda,om) if mmin < olambda < mmax else -np.inf\n",
    "    # evaluate the model\n",
    "    \n",
    "    # return the log likelihood\n",
    "    return -0.5 * np.sum(((lin_md - data[1])/sigma)**2)\n"
   ]
  },
  {
   "cell_type": "code",
   "execution_count": 232,
   "metadata": {},
   "outputs": [],
   "source": [
    "def logpost(theta, data, sigma, x,cmin,cmax,mmin,mmax,):\n",
    "    '''The natural logarithm of the posterior.'''\n",
    "    return logprior(theta,cmin,cmax,mmin,mmax,) + loglike(theta, data, sigma, x)"
   ]
  },
  {
   "cell_type": "code",
   "execution_count": 233,
   "metadata": {},
   "outputs": [],
   "source": [
    "nwalkers = 10 # Number of walkers to use. It should be at least twice the number of dimensions.\n",
    "nsteps = 5000 # Number of steps/iterations.\n",
    "start = 0.01 * np.random.randn(nwalkers,2) # Initial positions of the walkers.\n",
    "t0 = time.time()\n",
    "samples = 0.01 * np.random.randn(len(x),2)\n"
   ]
  },
  {
   "cell_type": "code",
   "execution_count": 260,
   "metadata": {},
   "outputs": [
    {
     "name": "stdout",
     "output_type": "stream",
     "text": [
      "[[0.92754482 0.19106004]\n",
      " [0.20009002 0.18661354]\n",
      " [0.28407509 0.1039847 ]\n",
      " [0.15713372 0.09111511]]\n",
      "0.0434980805742523 0.0018248153746705524\n",
      "0.0434980805742523 0.0018248153746705524\n",
      "0.0031328939592118847 0.005053696431962606\n",
      "0.0434980805742523 0.0018248153746705524\n",
      "0.0043377473684584 0.017215916871323966\n",
      "0.0434980805742523 0.0018248153746705524\n",
      "0.010172035709965907 0.00014154261408458202\n",
      "0.0434980805742523 0.0018248153746705524\n",
      "0.01698989177976332 0.007791162146102056\n",
      "0.0434980805742523 0.0018248153746705524\n",
      "0.005166427887102246 0.0007387030658227889\n",
      "0.0434980805742523 0.0018248153746705524\n",
      "0.006082949486834157 0.0009202425628051675\n",
      "0.0434980805742523 0.0018248153746705524\n",
      "0.020957083059589973 0.0032514668797407713\n",
      "0.0434980805742523 0.0018248153746705524\n",
      "0.003984825313095666 0.005512755243136331\n",
      "0.0434980805742523 0.0018248153746705524\n",
      "0.00648603697455603 0.024064411709983472\n",
      "[[0.92754482 0.19106004]\n",
      " [0.20009002 0.18661354]\n",
      " [0.28407509 0.1039847 ]\n",
      " [0.15713372 0.09111511]]\n",
      "0.20009001749391614 0.18661354049174939\n",
      "0.008106116578276578 0.01139749137958764\n",
      "0.20009001749391614 0.18661354049174939\n",
      "0.011356138186869064 0.006679001373126311\n",
      "0.20009001749391614 0.18661354049174939\n",
      "0.013790091925919302 0.02681679955555279\n",
      "0.20009001749391614 0.18661354049174939\n",
      "0.011049300615036646 0.022939216082674435\n",
      "0.20009001749391614 0.18661354049174939\n",
      "0.013496044383989486 0.008478183024837065\n",
      "0.20009001749391614 0.18661354049174939\n",
      "0.002602626365517423 0.009826465276375752\n",
      "0.20009001749391614 0.18661354049174939\n",
      "0.0006242172311229975 0.019758093094681323\n",
      "0.20009001749391614 0.18661354049174939\n",
      "0.015355872189881992 0.009598273767938767\n",
      "0.20009001749391614 0.18661354049174939\n",
      "0.008121841936084782 0.020352477727810188\n",
      "0.20009001749391614 0.18661354049174939\n",
      "0.009409537842056311 0.009594967486568103\n",
      "[[0.92754482 0.19106004]\n",
      " [0.20009002 0.18661354]\n",
      " [0.28407509 0.1039847 ]\n",
      " [0.15713372 0.09111511]]\n",
      "0.2840750909204236 0.1039846999506384\n",
      "0.01033762675725121 0.013804811287854013\n",
      "0.2840750909204236 0.1039846999506384\n",
      "0.009425522567550118 0.0014808947527635216\n",
      "0.2840750909204236 0.1039846999506384\n",
      "0.016316812479718796 0.015013871167074144\n",
      "0.2840750909204236 0.1039846999506384\n",
      "0.024039807610878677 0.003073950206492959\n",
      "0.2840750909204236 0.1039846999506384\n",
      "0.03244120770664888 0.0008837445503294382\n",
      "0.2840750909204236 0.1039846999506384\n",
      "0.004125889576143421 0.0032597133581868075\n",
      "0.2840750909204236 0.1039846999506384\n",
      "0.016424419555988383 0.007449514873403707\n",
      "0.2840750909204236 0.1039846999506384\n",
      "0.023013328888436883 0.017695783921878292\n",
      "0.2840750909204236 0.1039846999506384\n",
      "0.010025473380018659 0.00204744322490433\n",
      "0.2840750909204236 0.1039846999506384\n",
      "0.014448963123981612 0.010217995897228216\n",
      "[[0.92754482 0.19106004]\n",
      " [0.20009002 0.18661354]\n",
      " [0.28407509 0.1039847 ]\n",
      " [0.15713372 0.09111511]]\n",
      "0.15713371974846965 0.09111511269823733\n",
      "0.010963039629542669 0.0006163523020469191\n",
      "0.15713371974846965 0.09111511269823733\n",
      "0.013583408478977745 0.024315957884877802\n",
      "0.15713371974846965 0.09111511269823733\n",
      "0.009859787333127099 0.024263690014395278\n",
      "0.15713371974846965 0.09111511269823733\n",
      "0.003685508963686028 0.013707332609859443\n",
      "0.15713371974846965 0.09111511269823733\n",
      "0.009354570421134358 0.008210606693526403\n",
      "0.15713371974846965 0.09111511269823733\n",
      "0.004445381467880571 0.002598627107952273\n",
      "0.15713371974846965 0.09111511269823733\n",
      "0.015077322322398277 0.005042228469557275\n",
      "0.15713371974846965 0.09111511269823733\n",
      "0.010459208113064476 0.01071770696464093\n",
      "0.15713371974846965 0.09111511269823733\n",
      "0.025301443928345175 0.0030337817801807474\n",
      "0.15713371974846965 0.09111511269823733\n",
      "0.00886391177091011 0.008436543865515775\n"
     ]
    }
   ],
   "source": [
    "\n",
    "    \n",
    "def guassian_proposal(theta_curr):\n",
    "    # proposal based on Gaussian\n",
    "    theta_new = 0.07*np.abs(st.norm(loc=theta_curr, scale=0.2).rvs())\n",
    "    return theta_new\n",
    "\n",
    "def guassian_proposal_prob(x1, x2):\n",
    "    # calculate proposal probability q(x2|x1), based on Gaussian\n",
    "    q =  0.07*np.abs(st.norm(loc=x1, scale=1).pdf(x2))\n",
    "    return q\n",
    "\n",
    "def mcmc_mh_posterior(X, theta_init,sigma,x,nwalkers, cmin,cmax,mmin,mmax,func, proposal_func, proposal_func_prob, n_iter=1000):\n",
    "    # Metropolis-Hastings to estimate posterior\n",
    "    chains = []\n",
    "    for j in range(nwalkers):\n",
    "        thetas = []\n",
    "        print(theta_init)\n",
    "        theta_curr = theta_init[j]\n",
    "        accept_rates = []\n",
    "        accept_cum = 0\n",
    "        \n",
    "        for i in range(1, n_iter+1):\n",
    "            theta_new = .8*proposal_func(theta_curr)\n",
    "\n",
    "            prob_curr = func(theta_curr,X,sigma,x,cmin,cmax,mmin,mmax,)\n",
    "            \n",
    "            prob_new = func(theta_new,X,sigma,x,cmin,cmax,mmin,mmax,)\n",
    "            \n",
    "            # we calculate the prob=exp(x) only when prob<1 so the exp(x) will not overflow for large x\n",
    "    \n",
    "            if prob_new > prob_curr:\n",
    "                acceptance_ratio = 1,1\n",
    "            else:\n",
    "                qr = proposal_func_prob(theta_curr, theta_new)/proposal_func_prob(theta_curr, theta_new)\n",
    "                \n",
    "                acceptance_ratio = .8*np.exp(prob_new - prob_curr) * qr\n",
    "            acceptance_prob = min(1, acceptance_ratio[0]),min(1, acceptance_ratio[1])\n",
    "            \n",
    "            if acceptance_prob[0] > st.uniform(0,1).rvs() and acceptance_prob[1] > st.uniform(0,1).rvs():\n",
    "                theta_curr = theta_new\n",
    "                accept_cum = accept_cum+1\n",
    "                thetas.append(theta_new)\n",
    "            else:\n",
    "                thetas.append(theta_curr)\n",
    "                \n",
    "            accept_rates.append(accept_cum/i)\n",
    "        chains.append(thetas)\n",
    "        \n",
    "    return chains, accept_rates\n",
    "\n",
    "\n",
    "# generate observed data\n",
    "X = data\n",
    "nwalkers = 4\n",
    "ndim = 2\n",
    "cmin = .5\n",
    "cmax = 1.5\n",
    "mmin = 2\n",
    "mmax = 5\n",
    "initSamples = [ np.abs(.5*np.random.randn(nwalkers,2))]\n",
    "\n",
    "# run MCMC\n",
    "thetas, accept_rates = mcmc_mh_posterior(X, initSamples[0],sigma,x, nwalkers,cmin,cmax,mmin,mmax,\n",
    "                                         logpost, guassian_proposal, guassian_proposal_prob, \n",
    "                                         n_iter=10)\n"
   ]
  },
  {
   "cell_type": "code",
   "execution_count": 261,
   "metadata": {},
   "outputs": [],
   "source": [
    "m_theta = []\n",
    "c_theta = []\n",
    "chains = []\n",
    "for i in range(nwalkers):\n",
    "    m_theta = []\n",
    "    c_theta = []\n",
    "    for j in range(len(thetas[0])):\n",
    "        c_theta.append(thetas[i][j][0])\n",
    "        m_theta.append(thetas[i][j][1])\n",
    "    chains.append([c_theta,m_theta]) "
   ]
  },
  {
   "cell_type": "code",
   "execution_count": 262,
   "metadata": {},
   "outputs": [
    {
     "data": {
      "image/png": "[encoded data removed]",
      "text/plain": [
       "<Figure size 1152x216 with 2 Axes>"
      ]
     },
     "metadata": {
      "needs_background": "light"
     },
     "output_type": "display_data"
    }
   ],
   "source": [
    "\n",
    "\n",
    "plt.figure(figsize=(16,1.5*ndim))\n",
    "\n",
    "for n in range(ndim):\n",
    "    plt.subplot2grid((ndim, 1), (n, 0))\n",
    "    for i in range(nwalkers):\n",
    "        plt.plot(chains[i][n][:], '-',alpha=0.5)\n",
    "plt.tight_layout()\n",
    "plt.show()"
   ]
  },
  {
   "cell_type": "code",
   "execution_count": 263,
   "metadata": {},
   "outputs": [
    {
     "name": "stdout",
     "output_type": "stream",
     "text": [
      "          c         m\n",
      "0  0.171199  0.095885\n",
      "1  0.171199  0.095885\n",
      "2  0.171199  0.095885\n",
      "3  0.171199  0.095885\n",
      "4  0.171199  0.095885\n",
      "5  0.171199  0.095885\n",
      "6  0.171199  0.095885\n",
      "7  0.171199  0.095885\n",
      "8  0.171199  0.095885\n",
      "9  0.171199  0.095885\n"
     ]
    }
   ],
   "source": [
    "import seaborn as sns\n",
    "import pandas\n",
    "m = []\n",
    "c = []\n",
    "for i in range(len(chains[0][0])):\n",
    "    meanM = []\n",
    "    meanC = []\n",
    "    for j in range(nwalkers):\n",
    "        meanM.append(chains[j][1][i])\n",
    "        meanC.append(chains[j][0][i])\n",
    "    m.append(np.mean(meanM))\n",
    "    c.append(np.mean(meanC))\n",
    "m_fit = max(m)\n",
    "c_fit = max(c) \n",
    "\n",
    "d = {'c': c, 'm': m}\n",
    "c_fit = max(d['c']) \n",
    "chainData = pandas.DataFrame(d)\n",
    "print(chainData)\n"
   ]
  },
  {
   "cell_type": "code",
   "execution_count": 264,
   "metadata": {},
   "outputs": [
    {
     "data": {
      "image/png": "[encoded data removed]",
      "text/plain": [
       "<Figure size 360x360 with 6 Axes>"
      ]
     },
     "metadata": {
      "needs_background": "light"
     },
     "output_type": "display_data"
    }
   ],
   "source": [
    "#sns.pairplot(chainData, kind=\"kde\")\n",
    "plt.style.use('bmh')\n",
    "g = sns.pairplot(chainData, kind=\"kde\")\n",
    "i = 0\n",
    "plt.show()\n"
   ]
  },
  {
   "cell_type": "code",
   "execution_count": 256,
   "metadata": {},
   "outputs": [
    {
     "ename": "ValueError",
     "evalue": "'x' and 'y' must have the same size",
     "output_type": "error",
     "traceback": [
      "\u001b[1;31m---------------------------------------------------------------------------\u001b[0m",
      "\u001b[1;31mValueError\u001b[0m                                Traceback (most recent call last)",
      "\u001b[1;32md:\\Documentos\\GitHub\\MonteCarloMarkovChains\\MCMCLinearFit copy.ipynb Cell 15'\u001b[0m in \u001b[0;36m<cell line: 12>\u001b[1;34m()\u001b[0m\n\u001b[0;32m      <a href='vscode-notebook-cell:/d%3A/Documentos/GitHub/MonteCarloMarkovChains/MCMCLinearFit%20copy.ipynb#ch0000015?line=5'>6</a>\u001b[0m ax1\u001b[39m=\u001b[39mplt\u001b[39m.\u001b[39msubplot(gs[\u001b[39m0\u001b[39m])\n\u001b[0;32m      <a href='vscode-notebook-cell:/d%3A/Documentos/GitHub/MonteCarloMarkovChains/MCMCLinearFit%20copy.ipynb#ch0000015?line=6'>7</a>\u001b[0m \u001b[39m# inds = np.random.randint(len(chains[:][1]), size=100)\u001b[39;00m\n\u001b[0;32m      <a href='vscode-notebook-cell:/d%3A/Documentos/GitHub/MonteCarloMarkovChains/MCMCLinearFit%20copy.ipynb#ch0000015?line=7'>8</a>\u001b[0m \u001b[39m# for ind in inds:\u001b[39;00m\n\u001b[0;32m      <a href='vscode-notebook-cell:/d%3A/Documentos/GitHub/MonteCarloMarkovChains/MCMCLinearFit%20copy.ipynb#ch0000015?line=8'>9</a>\u001b[0m \u001b[39m#     sample = chains[ind]\u001b[39;00m\n\u001b[0;32m     <a href='vscode-notebook-cell:/d%3A/Documentos/GitHub/MonteCarloMarkovChains/MCMCLinearFit%20copy.ipynb#ch0000015?line=9'>10</a>\u001b[0m \u001b[39m#     ax1.plot(x, np.dot(np.vander(x, 2), sample[:2]),colors[0], alpha=0.1)\u001b[39;00m\n\u001b[1;32m---> <a href='vscode-notebook-cell:/d%3A/Documentos/GitHub/MonteCarloMarkovChains/MCMCLinearFit%20copy.ipynb#ch0000015?line=11'>12</a>\u001b[0m ax1\u001b[39m.\u001b[39;49merrorbar(x, data, yerr\u001b[39m=\u001b[39;49msigma, fmt\u001b[39m=\u001b[39;49m\u001b[39m\"\u001b[39;49m\u001b[39mo\u001b[39;49m\u001b[39m\"\u001b[39;49m)\n\u001b[0;32m     <a href='vscode-notebook-cell:/d%3A/Documentos/GitHub/MonteCarloMarkovChains/MCMCLinearFit%20copy.ipynb#ch0000015?line=12'>13</a>\u001b[0m ax1\u001b[39m.\u001b[39mplot(x, straight_line(x,m_true,c_true), \u001b[39m'\u001b[39m\u001b[39mk--\u001b[39m\u001b[39m'\u001b[39m, label\u001b[39m=\u001b[39m\u001b[39m\"\u001b[39m\u001b[39mtruth\u001b[39m\u001b[39m\"\u001b[39m)\n\u001b[0;32m     <a href='vscode-notebook-cell:/d%3A/Documentos/GitHub/MonteCarloMarkovChains/MCMCLinearFit%20copy.ipynb#ch0000015?line=13'>14</a>\u001b[0m ax1\u001b[39m.\u001b[39mplot(x, straight_line(x,m_fit,c_fit\u001b[39m-\u001b[39mcmin), \u001b[39m'\u001b[39m\u001b[39mk\u001b[39m\u001b[39m'\u001b[39m, label\u001b[39m=\u001b[39m\u001b[39m\"\u001b[39m\u001b[39mlinear fit\u001b[39m\u001b[39m\"\u001b[39m)\n",
      "File \u001b[1;32mc:\\Users\\baruc\\miniconda3\\lib\\site-packages\\matplotlib\\__init__.py:1412\u001b[0m, in \u001b[0;36m_preprocess_data.<locals>.inner\u001b[1;34m(ax, data, *args, **kwargs)\u001b[0m\n\u001b[0;32m   1409\u001b[0m \u001b[39m@functools\u001b[39m\u001b[39m.\u001b[39mwraps(func)\n\u001b[0;32m   1410\u001b[0m \u001b[39mdef\u001b[39;00m \u001b[39minner\u001b[39m(ax, \u001b[39m*\u001b[39margs, data\u001b[39m=\u001b[39m\u001b[39mNone\u001b[39;00m, \u001b[39m*\u001b[39m\u001b[39m*\u001b[39mkwargs):\n\u001b[0;32m   1411\u001b[0m     \u001b[39mif\u001b[39;00m data \u001b[39mis\u001b[39;00m \u001b[39mNone\u001b[39;00m:\n\u001b[1;32m-> 1412\u001b[0m         \u001b[39mreturn\u001b[39;00m func(ax, \u001b[39m*\u001b[39m\u001b[39mmap\u001b[39m(sanitize_sequence, args), \u001b[39m*\u001b[39m\u001b[39m*\u001b[39mkwargs)\n\u001b[0;32m   1414\u001b[0m     bound \u001b[39m=\u001b[39m new_sig\u001b[39m.\u001b[39mbind(ax, \u001b[39m*\u001b[39margs, \u001b[39m*\u001b[39m\u001b[39m*\u001b[39mkwargs)\n\u001b[0;32m   1415\u001b[0m     auto_label \u001b[39m=\u001b[39m (bound\u001b[39m.\u001b[39marguments\u001b[39m.\u001b[39mget(label_namer)\n\u001b[0;32m   1416\u001b[0m                   \u001b[39mor\u001b[39;00m bound\u001b[39m.\u001b[39mkwargs\u001b[39m.\u001b[39mget(label_namer))\n",
      "File \u001b[1;32mc:\\Users\\baruc\\miniconda3\\lib\\site-packages\\matplotlib\\axes\\_axes.py:3329\u001b[0m, in \u001b[0;36mAxes.errorbar\u001b[1;34m(self, x, y, yerr, xerr, fmt, ecolor, elinewidth, capsize, barsabove, lolims, uplims, xlolims, xuplims, errorevery, capthick, **kwargs)\u001b[0m\n\u001b[0;32m   3327\u001b[0m x, y \u001b[39m=\u001b[39m np\u001b[39m.\u001b[39matleast_1d(x, y)  \u001b[39m# Make sure all the args are iterable.\u001b[39;00m\n\u001b[0;32m   3328\u001b[0m \u001b[39mif\u001b[39;00m \u001b[39mlen\u001b[39m(x) \u001b[39m!=\u001b[39m \u001b[39mlen\u001b[39m(y):\n\u001b[1;32m-> 3329\u001b[0m     \u001b[39mraise\u001b[39;00m \u001b[39mValueError\u001b[39;00m(\u001b[39m\"\u001b[39m\u001b[39m'\u001b[39m\u001b[39mx\u001b[39m\u001b[39m'\u001b[39m\u001b[39m and \u001b[39m\u001b[39m'\u001b[39m\u001b[39my\u001b[39m\u001b[39m'\u001b[39m\u001b[39m must have the same size\u001b[39m\u001b[39m\"\u001b[39m)\n\u001b[0;32m   3331\u001b[0m \u001b[39mif\u001b[39;00m \u001b[39misinstance\u001b[39m(errorevery, Integral):\n\u001b[0;32m   3332\u001b[0m     errorevery \u001b[39m=\u001b[39m (\u001b[39m0\u001b[39m, errorevery)\n",
      "\u001b[1;31mValueError\u001b[0m: 'x' and 'y' must have the same size"
     ]
    },
    {
     "data": {
      "image/png": "[encoded data removed]",
      "text/plain": [
       "<Figure size 720x504 with 1 Axes>"
      ]
     },
     "metadata": {
      "needs_background": "light"
     },
     "output_type": "display_data"
    }
   ],
   "source": [
    "###\n",
    "fig,ax1=plt.subplots(1,1,figsize=(10,7))\n",
    "gs=gridspec.GridSpec(1,1)\n",
    "colors=['b','orange']\n",
    "###\n",
    "ax1=plt.subplot(gs[0])\n",
    "# inds = np.random.randint(len(chains[:][1]), size=100)\n",
    "# for ind in inds:\n",
    "#     sample = chains[ind]\n",
    "#     ax1.plot(x, np.dot(np.vander(x, 2), sample[:2]),colors[0], alpha=0.1)\n",
    "\n",
    "ax1.errorbar(x, data, yerr=sigma, fmt=\"o\")\n",
    "ax1.plot(x, straight_line(x,m_true,c_true), 'k--', label=\"truth\")\n",
    "ax1.plot(x, straight_line(x,m_fit,c_fit-cmin), 'k', label=\"linear fit\")\n",
    "\n",
    "\n",
    "###\n",
    "\n",
    "ax1.legend(fontsize=14)\n",
    "models = ['linear model', 'quadratic model']\n",
    "ax1.set_ylabel(r'y')\n",
    "plt.setp(ax1.get_xticklabels(), visible=False)\n",
    "plt.subplots_adjust(hspace=.0)"
   ]
  }
 ],
 "metadata": {
  "kernelspec": {
   "display_name": "Python 3.9.12 ('base')",
   "language": "python",
   "name": "python3"
  },
  "language_info": {
   "codemirror_mode": {
    "name": "ipython",
    "version": 3
   },
   "file_extension": ".py",
   "mimetype": "text/x-python",
   "name": "python",
   "nbconvert_exporter": "python",
   "pygments_lexer": "ipython3",
   "version": "3.9.12"
  },
  "orig_nbformat": 4,
  "vscode": {
   "interpreter": {
    "hash": "3a95b72ad26caed2f125c20bb8f543b875a0d1a71c369d3d6c01c0c3af4e63b9"
   }
  }
 },
 "nbformat": 4,
 "nbformat_minor": 2
}
